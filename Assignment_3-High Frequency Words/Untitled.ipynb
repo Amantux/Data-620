{
 "cells": [
  {
   "cell_type": "markdown",
   "metadata": {},
   "source": [
    "So I am a huge coffee nerd, and searched for a dataset that contained coffee reviews so I could drill into it. This set is named the coffee reviews dataset and can be found here:\n",
    "https://www.kaggle.com/datasets/schmoyote/coffee-reviews-dataset\n",
    "\n",
    "In each item there is a review of a blend of coffee with 3 distinct reviews.\n",
    "\n",
    "I'm first going to prepare my enviroment, and tee up som basic spaCy and NLTK data sources. "
   ]
  },
  {
   "cell_type": "code",
   "execution_count": 39,
   "metadata": {},
   "outputs": [],
   "source": [
    "import pandas as pd\n",
    "import spacy\n",
    "import nltk\n",
    "from collections import Counter\n",
    "import matplotlib.pyplot as plt\n",
    "import numpy as np"
   ]
  },
  {
   "cell_type": "code",
   "execution_count": 9,
   "metadata": {},
   "outputs": [],
   "source": [
    "#Load the spaCy model\n",
    "nlp = spacy.load('en_core_web_sm')\n",
    "nlp.max_length = 2000000  #Increase the maximum length limit "
   ]
  },
  {
   "cell_type": "code",
   "execution_count": 10,
   "metadata": {},
   "outputs": [
    {
     "name": "stderr",
     "output_type": "stream",
     "text": [
      "[nltk_data] Downloading package punkt to\n",
      "[nltk_data]     C:\\Users\\Aman\\AppData\\Roaming\\nltk_data...\n",
      "[nltk_data]   Package punkt is already up-to-date!\n",
      "[nltk_data] Downloading package stopwords to\n",
      "[nltk_data]     C:\\Users\\Aman\\AppData\\Roaming\\nltk_data...\n",
      "[nltk_data]   Package stopwords is already up-to-date!\n"
     ]
    },
    {
     "data": {
      "text/plain": [
       "True"
      ]
     },
     "execution_count": 10,
     "metadata": {},
     "output_type": "execute_result"
    }
   ],
   "source": [
    "# Download necessary NLTK data\n",
    "nltk.download('punkt')\n",
    "nltk.download('stopwords')"
   ]
  },
  {
   "cell_type": "code",
   "execution_count": 11,
   "metadata": {},
   "outputs": [],
   "source": [
    "from nltk.tokenize import word_tokenize\n",
    "from nltk.corpus import stopwords"
   ]
  },
  {
   "cell_type": "markdown",
   "metadata": {},
   "source": [
    "Essentially the nltk is a fantastic natural langauge tool kit. We're going to use a tokenizer. A tokenizer divides a text into a list of sentences by using an unsupervised algorithm to build a model for abbreviation words, collocations, and words that start sentences. It must be trained on a large collection of plaintext in the target language before it can be used.\n",
    "\n",
    "In addition, were going to extract the stop words. A stop word is a frequently used word (like \"the,\" \"a,\" \"an,\" or \"in\"), and adds no relative meaning to the analysis were going to do. \n",
    "\n",
    "From here, were going to load in the CSV, extract the 3 reviews per coffee, and transform them into a singular dataframe, and save that. \n"
   ]
  },
  {
   "cell_type": "code",
   "execution_count": 12,
   "metadata": {},
   "outputs": [
    {
     "data": {
      "text/html": [
       "<div>\n",
       "<style scoped>\n",
       "    .dataframe tbody tr th:only-of-type {\n",
       "        vertical-align: middle;\n",
       "    }\n",
       "\n",
       "    .dataframe tbody tr th {\n",
       "        vertical-align: top;\n",
       "    }\n",
       "\n",
       "    .dataframe thead th {\n",
       "        text-align: right;\n",
       "    }\n",
       "</style>\n",
       "<table border=\"1\" class=\"dataframe\">\n",
       "  <thead>\n",
       "    <tr style=\"text-align: right;\">\n",
       "      <th></th>\n",
       "      <th>description</th>\n",
       "    </tr>\n",
       "  </thead>\n",
       "  <tbody>\n",
       "    <tr>\n",
       "      <th>0</th>\n",
       "      <td>Evaluated as espresso. Sweet-toned, deeply ric...</td>\n",
       "    </tr>\n",
       "    <tr>\n",
       "      <th>1</th>\n",
       "      <td>Evaluated as espresso. Sweetly tart, floral-to...</td>\n",
       "    </tr>\n",
       "    <tr>\n",
       "      <th>2</th>\n",
       "      <td>Crisply sweet, cocoa-toned. Lemon blossom, roa...</td>\n",
       "    </tr>\n",
       "    <tr>\n",
       "      <th>3</th>\n",
       "      <td>Delicate, sweetly spice-toned. Pink peppercorn...</td>\n",
       "    </tr>\n",
       "    <tr>\n",
       "      <th>4</th>\n",
       "      <td>Deeply sweet, subtly pungent. Honey, pear, tan...</td>\n",
       "    </tr>\n",
       "    <tr>\n",
       "      <th>...</th>\n",
       "      <td>...</td>\n",
       "    </tr>\n",
       "    <tr>\n",
       "      <th>6280</th>\n",
       "      <td>A quietly confident, sweetly nut-toned Guatema...</td>\n",
       "    </tr>\n",
       "    <tr>\n",
       "      <th>6281</th>\n",
       "      <td>A deeply floral, richly chocolaty Guatemala cu...</td>\n",
       "    </tr>\n",
       "    <tr>\n",
       "      <th>6282</th>\n",
       "      <td>A bright, balanced, juicy Guatemala cup driven...</td>\n",
       "    </tr>\n",
       "    <tr>\n",
       "      <th>6283</th>\n",
       "      <td>Balanced, bright, invigoratingly crisp, with t...</td>\n",
       "    </tr>\n",
       "    <tr>\n",
       "      <th>6284</th>\n",
       "      <td>This single-farm Guatemala espresso displays t...</td>\n",
       "    </tr>\n",
       "  </tbody>\n",
       "</table>\n",
       "<p>6285 rows × 1 columns</p>\n",
       "</div>"
      ],
      "text/plain": [
       "                                            description\n",
       "0     Evaluated as espresso. Sweet-toned, deeply ric...\n",
       "1     Evaluated as espresso. Sweetly tart, floral-to...\n",
       "2     Crisply sweet, cocoa-toned. Lemon blossom, roa...\n",
       "3     Delicate, sweetly spice-toned. Pink peppercorn...\n",
       "4     Deeply sweet, subtly pungent. Honey, pear, tan...\n",
       "...                                                 ...\n",
       "6280  A quietly confident, sweetly nut-toned Guatema...\n",
       "6281  A deeply floral, richly chocolaty Guatemala cu...\n",
       "6282  A bright, balanced, juicy Guatemala cup driven...\n",
       "6283  Balanced, bright, invigoratingly crisp, with t...\n",
       "6284  This single-farm Guatemala espresso displays t...\n",
       "\n",
       "[6285 rows x 1 columns]"
      ]
     },
     "execution_count": 12,
     "metadata": {},
     "output_type": "execute_result"
    }
   ],
   "source": [
    "#Load the CSV file\n",
    "file_path = 'coffee_analysis.csv'\n",
    "df = pd.read_csv(file_path)\n",
    "\n",
    "#Extract reviews\n",
    "desc_df = df[['desc_1', 'desc_2', 'desc_3']]\n",
    "\n",
    "#Transform the reviews from one row with three reviews to three rows with 1 review (melt it)\n",
    "melted_desc_df = desc_df.melt(var_name='description_type', value_name='description').drop(columns='description_type')\n",
    "melted_desc_df"
   ]
  },
  {
   "cell_type": "markdown",
   "metadata": {},
   "source": [
    "Now let's make a corpus file so we ideally never have to do this again. "
   ]
  },
  {
   "cell_type": "code",
   "execution_count": 13,
   "metadata": {},
   "outputs": [],
   "source": [
    "#Clean the data\n",
    "melted_desc_df = melted_desc_df.dropna()\n",
    "#Turn it into a list, so that we can write it out. \n",
    "corpus = melted_desc_df['description'].tolist()\n",
    "\n",
    "#save the corpus\n",
    "corpus_file_path = 'descriptions_corpus.txt'\n",
    "with open(corpus_file_path, 'w', encoding='utf-8') as file:\n",
    "    for description in corpus:\n",
    "        file.write(description + '\\n')\n",
    "        \n"
   ]
  },
  {
   "cell_type": "code",
   "execution_count": null,
   "metadata": {},
   "outputs": [],
   "source": []
  },
  {
   "cell_type": "code",
   "execution_count": 14,
   "metadata": {},
   "outputs": [
    {
     "data": {
      "text/plain": [
       "{'Total Descriptions': 6283,\n",
       " 'Average Length': 297.3931243036766,\n",
       " 'Longest Description': 'This exceptional coffee was selected as the No. 24 coffee on\\xa0Coffee Review’s\\xa0list of the Top 30 Coffees of 2018.\\xa0 This coffee tied for the highest rating in a tasting of natural-processed single-origin espressos for Coffee Review’s August 2018 tasting report. With its generally elongated beans and distinctive floral and crisp, often chocolaty cup, the Gesha variety of Arabica continues to distinguish itself as one of the world’s rarest and most unique coffees. Although the Gesha originated in Ethiopia, it was “discovered” by the coffee world in 2004 growing in Boquete, Panama, and Panama continues to dominate the expanding world of Gesha. This particular version, however, is the outcome of efforts to commercialize Gesha in the region from which it originally came. It was grown in western Ethiopia by farmers Adam and Rachel Overton and their indigenous Meanit culture collaborators from seed selected from wild trees in the nearby Gori Gesha forest. This is a dry-processed or “natural” version, meaning the beans were dried inside the fruit rather than after the soft fruit residue has been removed, as is the case with wet-processed or “washed” coffees. Small Eyes Café is a small, family-owned coffee shop in Yilan, Taiwan, specializing in artisanally roasted specialty coffee and homemade desserts. Visit https://www.facebook.com/Smalleyescafe for more information.',\n",
       " 'Length of Longest Description': 1380,\n",
       " 'Shortest Description': 'A plush, smooth roast-touched Kona.',\n",
       " 'Length of Shortest Description': 35}"
      ]
     },
     "execution_count": 14,
     "metadata": {},
     "output_type": "execute_result"
    }
   ],
   "source": [
    "total_descriptions = len(corpus)\n",
    "lengths = [len(description) for description in corpus]\n",
    "average_length = sum(lengths) / total_descriptions\n",
    "longest_description = max(corpus, key=len)\n",
    "shortest_description = min(corpus, key=len)\n",
    "\n",
    "summary_statistics = {\n",
    "    'Total Descriptions': total_descriptions,\n",
    "    'Average Length': average_length,\n",
    "    'Longest Description': longest_description,\n",
    "    'Length of Longest Description': len(longest_description),\n",
    "    'Shortest Description': shortest_description,\n",
    "    'Length of Shortest Description': len(shortest_description)\n",
    "}\n",
    "summary_statistics"
   ]
  },
  {
   "cell_type": "code",
   "execution_count": 31,
   "metadata": {},
   "outputs": [],
   "source": [
    "all_text = \" \".join(corpus[:200]) #were going to play with just 20 reviews, and then expand out to the whole set. This will help with runtime"
   ]
  },
  {
   "cell_type": "code",
   "execution_count": 32,
   "metadata": {},
   "outputs": [],
   "source": [
    "#Create a single text from all descriptions for NLP processing\n",
    "#all_text = \" \".join(corpus)\n",
    "#all_text = \" \".join(corpus[:20])\n",
    "\n",
    "#Tokenize\n",
    "tokens = word_tokenize(all_text.lower())\n",
    "\n",
    "#Remove stop words\n",
    "stop_words = set(stopwords.words('english'))\n",
    "filtered_tokens = [word for word in tokens if word.isalnum() and word not in stop_words]"
   ]
  },
  {
   "cell_type": "code",
   "execution_count": 33,
   "metadata": {},
   "outputs": [
    {
     "data": {
      "text/html": [
       "<div>\n",
       "<style scoped>\n",
       "    .dataframe tbody tr th:only-of-type {\n",
       "        vertical-align: middle;\n",
       "    }\n",
       "\n",
       "    .dataframe tbody tr th {\n",
       "        vertical-align: top;\n",
       "    }\n",
       "\n",
       "    .dataframe thead th {\n",
       "        text-align: right;\n",
       "    }\n",
       "</style>\n",
       "<table border=\"1\" class=\"dataframe\">\n",
       "  <thead>\n",
       "    <tr style=\"text-align: right;\">\n",
       "      <th></th>\n",
       "      <th>Value</th>\n",
       "    </tr>\n",
       "  </thead>\n",
       "  <tbody>\n",
       "    <tr>\n",
       "      <th>Total Descriptions</th>\n",
       "      <td>6283</td>\n",
       "    </tr>\n",
       "    <tr>\n",
       "      <th>Average Length</th>\n",
       "      <td>297.393</td>\n",
       "    </tr>\n",
       "    <tr>\n",
       "      <th>Longest Description</th>\n",
       "      <td>This exceptional coffee was selected as the No...</td>\n",
       "    </tr>\n",
       "    <tr>\n",
       "      <th>Length of Longest Description</th>\n",
       "      <td>1380</td>\n",
       "    </tr>\n",
       "    <tr>\n",
       "      <th>Shortest Description</th>\n",
       "      <td>A plush, smooth roast-touched Kona.</td>\n",
       "    </tr>\n",
       "    <tr>\n",
       "      <th>Length of Shortest Description</th>\n",
       "      <td>35</td>\n",
       "    </tr>\n",
       "    <tr>\n",
       "      <th>Lexical Diversity</th>\n",
       "      <td>0.0943241</td>\n",
       "    </tr>\n",
       "    <tr>\n",
       "      <th>Most Common Words</th>\n",
       "      <td>[(cup, 211), (finish, 201), (aroma, 199), (mou...</td>\n",
       "    </tr>\n",
       "    <tr>\n",
       "      <th>Named Entities</th>\n",
       "      <td>[((three, CARDINAL), 23), ((Baker, PERSON), 14...</td>\n",
       "    </tr>\n",
       "  </tbody>\n",
       "</table>\n",
       "</div>"
      ],
      "text/plain": [
       "                                                                            Value\n",
       "Total Descriptions                                                           6283\n",
       "Average Length                                                            297.393\n",
       "Longest Description             This exceptional coffee was selected as the No...\n",
       "Length of Longest Description                                                1380\n",
       "Shortest Description                          A plush, smooth roast-touched Kona.\n",
       "Length of Shortest Description                                                 35\n",
       "Lexical Diversity                                                       0.0943241\n",
       "Most Common Words               [(cup, 211), (finish, 201), (aroma, 199), (mou...\n",
       "Named Entities                  [((three, CARDINAL), 23), ((Baker, PERSON), 14..."
      ]
     },
     "execution_count": 33,
     "metadata": {},
     "output_type": "execute_result"
    }
   ],
   "source": [
    "#Calculate how diverse the review is\n",
    "lexical_diversity = len(set(filtered_tokens)) / len(filtered_tokens)\n",
    "\n",
    "#Calculate 200 most common words\n",
    "word_freq = Counter(filtered_tokens)\n",
    "most_common_words = word_freq.most_common(200)\n",
    "\n",
    "#Use spaCy for NER\n",
    "doc = nlp(all_text)\n",
    "entities = [(entity.text, entity.label_) for entity in doc.ents]\n",
    "entity_counter = Counter(entities)\n",
    "\n",
    "#Get interesting stuff\n",
    "summary_statistics = {\n",
    "    'Total Descriptions': total_descriptions,\n",
    "    'Average Length': average_length,\n",
    "    'Longest Description': longest_description,\n",
    "    'Length of Longest Description': len(longest_description),\n",
    "    'Shortest Description': shortest_description,\n",
    "    'Length of Shortest Description': len(shortest_description),\n",
    "    'Lexical Diversity': lexical_diversity,\n",
    "    'Most Common Words': most_common_words,\n",
    "    'Named Entities': entity_counter.most_common(10) #I wanted to see if there was any fun named entities\n",
    "}\n",
    "\n",
    "summary_statistics_df = pd.DataFrame.from_dict(summary_statistics, orient='index', columns=['Value'])\n",
    "summary_statistics_df"
   ]
  },
  {
   "cell_type": "markdown",
   "metadata": {},
   "source": [
    "NER doesn't seem to be working too well, but its rather interesting to see that Cup, Finish and Aroma are pretty common words (at least among the 200 supercut) "
   ]
  },
  {
   "cell_type": "code",
   "execution_count": null,
   "metadata": {},
   "outputs": [],
   "source": []
  },
  {
   "cell_type": "code",
   "execution_count": 34,
   "metadata": {},
   "outputs": [
    {
     "data": {
      "text/plain": [
       "(34,\n",
       " ['cup',\n",
       "  'finish',\n",
       "  'aroma',\n",
       "  'mouthfeel',\n",
       "  'structure',\n",
       "  'chocolate',\n",
       "  'sweet',\n",
       "  'notes',\n",
       "  'long',\n",
       "  'sweetly',\n",
       "  'zest',\n",
       "  'richly',\n",
       "  'short',\n",
       "  'acidity',\n",
       "  'dark',\n",
       "  'deeply',\n",
       "  'syrupy',\n",
       "  'crisp',\n",
       "  'tart',\n",
       "  'cedar',\n",
       "  'resonant',\n",
       "  'baker',\n",
       "  'almond',\n",
       "  'balanced',\n",
       "  'flowers',\n",
       "  'hint',\n",
       "  'rich',\n",
       "  'crisply',\n",
       "  'roasted',\n",
       "  'juicy',\n",
       "  'savory',\n",
       "  'bright',\n",
       "  'sandalwood',\n",
       "  'cacao'])"
      ]
     },
     "execution_count": 34,
     "metadata": {},
     "output_type": "execute_result"
    }
   ],
   "source": [
    "sorted_word_freq = word_freq.most_common()\n",
    "total_words = sum(word_freq.values())\n",
    "cumulative_count = 0\n",
    "unique_word_count = 0\n",
    "words_that_represent_half = []\n",
    "for word, freq in sorted_word_freq:\n",
    "    cumulative_count += freq\n",
    "    unique_word_count += 1\n",
    "    words_that_represent_half.append(word)\n",
    "    if cumulative_count >= total_words / 2:\n",
    "        break\n",
    "\n",
    "# Display the result\n",
    "unique_word_count, words_that_represent_half"
   ]
  },
  {
   "cell_type": "markdown",
   "metadata": {},
   "source": [
    "Its interesting to see it takes 34 words to represent half of the total words in the corpus. Weirdly 'finish', 'aroma', 'cup', 'mouthfeel', 'structure', are all words very targeted towards coffee tasting, whereas the remainder are all common words to describe flavor. "
   ]
  },
  {
   "cell_type": "code",
   "execution_count": 35,
   "metadata": {},
   "outputs": [
    {
     "data": {
      "text/plain": [
       "[('cup', 211),\n",
       " ('finish', 201),\n",
       " ('aroma', 199),\n",
       " ('mouthfeel', 186),\n",
       " ('structure', 170),\n",
       " ('chocolate', 169),\n",
       " ('sweet', 163),\n",
       " ('notes', 124),\n",
       " ('long', 107),\n",
       " ('sweetly', 105),\n",
       " ('zest', 98),\n",
       " ('richly', 95),\n",
       " ('short', 86),\n",
       " ('acidity', 80),\n",
       " ('dark', 71),\n",
       " ('deeply', 68),\n",
       " ('syrupy', 66),\n",
       " ('crisp', 65),\n",
       " ('tart', 63),\n",
       " ('cedar', 60),\n",
       " ('resonant', 56),\n",
       " ('baker', 56),\n",
       " ('almond', 54),\n",
       " ('balanced', 52),\n",
       " ('flowers', 52),\n",
       " ('hint', 51),\n",
       " ('rich', 47),\n",
       " ('crisply', 46),\n",
       " ('roasted', 43),\n",
       " ('juicy', 43),\n",
       " ('savory', 43),\n",
       " ('bright', 43),\n",
       " ('sandalwood', 42),\n",
       " ('cacao', 41),\n",
       " ('nib', 41),\n",
       " ('drying', 40),\n",
       " ('delicate', 40),\n",
       " ('satiny', 40),\n",
       " ('fruit', 34),\n",
       " ('dried', 33),\n",
       " ('floral', 33),\n",
       " ('black', 31),\n",
       " ('cocoa', 31),\n",
       " ('gently', 30),\n",
       " ('full', 30),\n",
       " ('lemon', 29),\n",
       " ('florals', 28),\n",
       " ('evaluated', 27),\n",
       " ('espresso', 27),\n",
       " ('milk', 27),\n",
       " ('tangerine', 27),\n",
       " ('orange', 27),\n",
       " ('velvety', 27),\n",
       " ('plush', 26),\n",
       " ('small', 26),\n",
       " ('consolidates', 26),\n",
       " ('grapefruit', 25),\n",
       " ('lively', 25),\n",
       " ('aromatic', 25),\n",
       " ('leads', 24),\n",
       " ('around', 24),\n",
       " ('currant', 24),\n",
       " ('tobacco', 24),\n",
       " ('bittersweet', 24),\n",
       " ('lightly', 24),\n",
       " ('buoyant', 23),\n",
       " ('hints', 22),\n",
       " ('pipe', 22),\n",
       " ('cherry', 21),\n",
       " ('pungent', 21),\n",
       " ('lavender', 20),\n",
       " ('complex', 20),\n",
       " ('jasmine', 20),\n",
       " ('parts', 19),\n",
       " ('apricot', 19),\n",
       " ('blossom', 19),\n",
       " ('silky', 19),\n",
       " ('honey', 19),\n",
       " ('hazelnut', 19),\n",
       " ('mango', 19),\n",
       " ('three', 18),\n",
       " ('peppercorn', 18),\n",
       " ('raspberry', 18),\n",
       " ('carry', 18),\n",
       " ('lime', 18),\n",
       " ('vanilla', 17),\n",
       " ('syrup', 17),\n",
       " ('wood', 17),\n",
       " ('peach', 17),\n",
       " ('citrus', 16),\n",
       " ('ripe', 16),\n",
       " ('maple', 16),\n",
       " ('frankincense', 16),\n",
       " ('deep', 16),\n",
       " ('though', 16),\n",
       " ('layered', 16),\n",
       " ('narcissus', 15),\n",
       " ('honeysuckle', 15),\n",
       " ('oak', 15),\n",
       " ('butter', 15),\n",
       " ('quietly', 15),\n",
       " ('cashew', 15),\n",
       " ('flavor', 14),\n",
       " ('rounding', 14),\n",
       " ('lilac', 14),\n",
       " ('fir', 14),\n",
       " ('cinnamon', 14),\n",
       " ('tones', 13),\n",
       " ('date', 13),\n",
       " ('molasses', 13),\n",
       " ('fresh', 13),\n",
       " ('spicy', 13),\n",
       " ('caramel', 13),\n",
       " ('rum', 13),\n",
       " ('pink', 12),\n",
       " ('delicately', 12),\n",
       " ('centers', 12),\n",
       " ('yet', 12),\n",
       " ('red', 12),\n",
       " ('round', 12),\n",
       " ('brisk', 12),\n",
       " ('roundly', 12),\n",
       " ('toffee', 12),\n",
       " ('musk', 11),\n",
       " ('magnolia', 11),\n",
       " ('light', 11),\n",
       " ('blackberry', 11),\n",
       " ('vibrant', 11),\n",
       " ('body', 10),\n",
       " ('white', 10),\n",
       " ('pear', 10),\n",
       " ('verbena', 10),\n",
       " ('clove', 10),\n",
       " ('nougat', 10),\n",
       " ('candied', 10),\n",
       " ('strawberry', 10),\n",
       " ('dry', 10),\n",
       " ('aged', 10),\n",
       " ('intensely', 10),\n",
       " ('intense', 9),\n",
       " ('rose', 9),\n",
       " ('gentle', 9),\n",
       " ('gardenia', 9),\n",
       " ('apple', 9),\n",
       " ('berry', 9),\n",
       " ('jam', 9),\n",
       " ('stone', 9),\n",
       " ('spice', 8),\n",
       " ('lush', 8),\n",
       " ('moist', 8),\n",
       " ('pomegranate', 8),\n",
       " ('bergamot', 8),\n",
       " ('characterized', 7),\n",
       " ('plump', 7),\n",
       " ('tea', 7),\n",
       " ('resurfacing', 7),\n",
       " ('carries', 7),\n",
       " ('wisteria', 7),\n",
       " ('rounded', 7),\n",
       " ('chocolaty', 6),\n",
       " ('smooth', 6),\n",
       " ('hibiscus', 6),\n",
       " ('fine', 6),\n",
       " ('lily', 6),\n",
       " ('consolidating', 6),\n",
       " ('powder', 6),\n",
       " ('passionfruit', 6),\n",
       " ('sugar', 6),\n",
       " ('plum', 6),\n",
       " ('nut', 6),\n",
       " ('promise', 6),\n",
       " ('quiet', 6),\n",
       " ('fig', 6),\n",
       " ('coconut', 6),\n",
       " ('tamarind', 6),\n",
       " ('intricate', 6),\n",
       " ('banana', 6),\n",
       " ('fudge', 6),\n",
       " ('ginger', 6),\n",
       " ('suggestions', 6),\n",
       " ('redolent', 6),\n",
       " ('freesia', 6),\n",
       " ('butterscotch', 6),\n",
       " ('herb', 5),\n",
       " ('myrrh', 5),\n",
       " ('brandy', 5),\n",
       " ('allspice', 5),\n",
       " ('spearmint', 5),\n",
       " ('lemongrass', 5),\n",
       " ('violet', 5),\n",
       " ('lingering', 5),\n",
       " ('toasted', 5),\n",
       " ('tropical', 5),\n",
       " ('citrusy', 5),\n",
       " ('redwood', 5),\n",
       " ('supported', 5),\n",
       " ('mulberry', 5),\n",
       " ('rhododendron', 5),\n",
       " ('suggesting', 5),\n",
       " ('caramelized', 5)]"
      ]
     },
     "execution_count": 35,
     "metadata": {},
     "output_type": "execute_result"
    }
   ],
   "source": [
    "most_common_words"
   ]
  },
  {
   "cell_type": "markdown",
   "metadata": {},
   "source": [
    "Interestingly, the top 200 words follow much the same structure as the representational model, with  'finish', 'aroma', 'cup', 'mouthfeel', 'structure', all in the top 10. Other than that, Chocolate, sweet, and sweetly all rather make sense to see near the top as they are very commmon flavors for coffee. "
   ]
  },
  {
   "cell_type": "code",
   "execution_count": 40,
   "metadata": {},
   "outputs": [
    {
     "data": {
      "image/png": "[encoded data removed]",
      "text/plain": [
       "<Figure size 1008x504 with 1 Axes>"
      ]
     },
     "metadata": {
      "needs_background": "light"
     },
     "output_type": "display_data"
    }
   ],
   "source": [
    "# Separate words and their frequencies for plotting\n",
    "words, frequencies = zip(*most_common_words)\n",
    "\n",
    "ranks = np.arange(1, len(frequencies) + 1)\n",
    "zipf_frequencies = [frequencies[0] / rank for rank in ranks]\n",
    "\n",
    "plt.figure(figsize=(14, 7))\n",
    "plt.bar(words, frequencies, label='Actual Frequencies')\n",
    "plt.plot(words, zipf_frequencies, color='red', label=\"Zipf's Law\", linewidth=2)\n",
    "plt.xlabel('Words')\n",
    "plt.ylabel('Frequency')\n",
    "plt.title('Relative Frequency of Top 200 Words with Zipf\\'s Law')\n",
    "plt.xticks(rotation=90)\n",
    "plt.legend()\n",
    "plt.show()"
   ]
  },
  {
   "cell_type": "markdown",
   "metadata": {},
   "source": [
    "Can't Zipf's law be asociated as an un-tokenized view of Benford's Law?"
   ]
  },
  {
   "cell_type": "markdown",
   "metadata": {},
   "source": [
    "Zipf's law stipulates that given a large sample of words used, the frequency of any word is inversely proportional to its rank in the frequency table. In other words, the most common word will appear twice as frequently as the second most common word, etc. This law often holds true for many natural language texts, including books, articles, and spoken language, where a few words are used very frequently, and many words are used infrequently. However, I believe this principle breaks down when applied to a conformal set like tasting notes. Tasting notes often involve people using a specific subset of words to describe a similar experience through a common set of senses. Unlike general language usage, which encompasses a vast range of topics and contexts, tasting notes are constrained by the need to convey sensory experiences such as taste, aroma, and texture. This specialized vocabulary means that certain descriptive terms are used repeatedly across different tasting notes, leading to a less diverse word distribution."
   ]
  },
  {
   "cell_type": "markdown",
   "metadata": {},
   "source": [
    "Finally: In what ways do you think the frequency of the words in this corpus differ from “all words in all corpora.”\n",
    "    \n",
    "I believe this principle breaks down when applied to this corpus as tasting notes are trying to describe the same thing with slighlty different experiences.  This corpus, involves people using a specific subset of words to describe similar experiences through a common set of criteria or themes. Unlike a lot of other corpurses which are broder, have less specific language usage, and may encompasses a wider range of topics and contexts, this specialized context is constrained by the need to convey specific information about sensory experiences. This specialized vocabulary means that certain terms are used repeatedly across different entries, leading to a less diverse word distribution. Consequently, the frequency distribution of words in this corpus will not follow the typical pattern seen in broader, more varied language corpora, where a vast array of words are used to describe a wide range of topics.\n"
   ]
  }
 ],
 "metadata": {
  "kernelspec": {
   "display_name": "Python 3",
   "language": "python",
   "name": "python3"
  },
  "language_info": {
   "codemirror_mode": {
    "name": "ipython",
    "version": 3
   },
   "file_extension": ".py",
   "mimetype": "text/x-python",
   "name": "python",
   "nbconvert_exporter": "python",
   "pygments_lexer": "ipython3",
   "version": "3.8.3"
  }
 },
 "nbformat": 4,
 "nbformat_minor": 4
}
