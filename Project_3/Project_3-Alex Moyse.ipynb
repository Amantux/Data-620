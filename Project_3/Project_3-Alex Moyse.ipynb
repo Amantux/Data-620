{
 "cells": [
  {
   "cell_type": "code",
   "execution_count": 1,
   "metadata": {},
   "outputs": [],
   "source": [
    "import nltk\n",
    "from nltk.corpus import names\n",
    "import random\n",
    "from nltk.classify import apply_features\n",
    "from nltk.classify import NaiveBayesClassifier"
   ]
  },
  {
   "cell_type": "markdown",
   "metadata": {},
   "source": [
    "Basic Imports, tee everything up"
   ]
  },
  {
   "cell_type": "code",
   "execution_count": 2,
   "metadata": {},
   "outputs": [
    {
     "name": "stderr",
     "output_type": "stream",
     "text": [
      "[nltk_data] Downloading package names to\n",
      "[nltk_data]     C:\\Users\\Aman\\AppData\\Roaming\\nltk_data...\n",
      "[nltk_data]   Unzipping corpora\\names.zip.\n"
     ]
    }
   ],
   "source": [
    "nltk.download('names')\n",
    "\n",
    "names = ([(name, 'male') for name in names.words('male.txt')] +\n",
    "         [(name, 'female') for name in names.words('female.txt')])\n",
    "random.shuffle(names)"
   ]
  },
  {
   "cell_type": "markdown",
   "metadata": {},
   "source": [
    "Download and import names data, randomly shuffle it to prevent bias."
   ]
  },
  {
   "cell_type": "code",
   "execution_count": 26,
   "metadata": {},
   "outputs": [
    {
     "data": {
      "text/plain": [
       "('Kostas', 'male')"
      ]
     },
     "execution_count": 26,
     "metadata": {},
     "output_type": "execute_result"
    }
   ],
   "source": [
    "train_set = names[1000:]\n",
    "dev_test_set = names[500:1000]\n",
    "test_set = names[:500]\n",
    "names[1]"
   ]
  },
  {
   "cell_type": "markdown",
   "metadata": {},
   "source": [
    "Train Test Split method"
   ]
  },
  {
   "cell_type": "code",
   "execution_count": 16,
   "metadata": {},
   "outputs": [],
   "source": [
    "def gender_features(name):\n",
    "    features = {}\n",
    "    features[\"last_letter\"] = name[-1].lower()\n",
    "    features[\"first_letter\"] = name[0].lower()\n",
    "    features[\"length\"] = len(name)\n",
    "    features[\"vowel_count\"] = sum(1 for letter in name if letter in 'aeiouAEIOU')\n",
    "    features[\"consonant_count\"] = len(name) - features[\"vowel_count\"]\n",
    "    features[\"last_two_letters\"] = name[-2:].lower() if len(name) > 1 else name[-1].lower()\n",
    "    features[\"first_two_letters\"] = name[:2].lower() if len(name) > 1 else name[0].lower()\n",
    "    features[\"is_last_vowel\"] = (name[-1].lower() in 'aeiou')\n",
    "    features[\"is_first_vowel\"] = (name[0].lower() in 'aeiou')\n",
    "    features[\"num_distinct_letters\"] = len(set(name.lower()))\n",
    "    features[\"begin_with_vowel\"] = name[0].lower() in 'aeiou'\n",
    "    features[\"end_with_vowel\"] = name[-1].lower() in 'aeiou'\n",
    "    features[\"count_vowel_first_half\"] = sum(1 for letter in name[:len(name)//2] if letter in 'aeiouAEIOU')\n",
    "    features[\"count_vowel_second_half\"] = sum(1 for letter in name[len(name)//2:] if letter in 'aeiouAEIOU')\n",
    "    return features"
   ]
  },
  {
   "cell_type": "markdown",
   "metadata": {},
   "source": [
    "Randomly guessing on interesting features, derived the following feature set from concepts in the natural language processing book\n"
   ]
  },
  {
   "cell_type": "code",
   "execution_count": 29,
   "metadata": {},
   "outputs": [
    {
     "name": "stdout",
     "output_type": "stream",
     "text": [
      "Accuracy on dev-test set: 0.768\n",
      "Most Informative Features\n",
      "        last_two_letters = 'na'           female : male   =     90.5 : 1.0\n",
      "        last_two_letters = 'la'           female : male   =     71.3 : 1.0\n",
      "        last_two_letters = 'ia'           female : male   =     37.5 : 1.0\n",
      "             last_letter = 'a'            female : male   =     34.7 : 1.0\n",
      "        last_two_letters = 'us'             male : female =     33.5 : 1.0\n",
      "        last_two_letters = 'sa'           female : male   =     33.1 : 1.0\n",
      "        last_two_letters = 'ta'           female : male   =     31.6 : 1.0\n",
      "             last_letter = 'k'              male : female =     30.2 : 1.0\n",
      "             last_letter = 'f'              male : female =     27.6 : 1.0\n",
      "        last_two_letters = 'ra'           female : male   =     24.7 : 1.0\n"
     ]
    }
   ],
   "source": [
    "train_features = apply_features(gender_features, train_set)\n",
    "dev_test_features = apply_features(gender_features, dev_test_set)\n",
    "classifier = NaiveBayesClassifier.train(train_features)\n",
    "\n",
    "print(\"Accuracy on dev-test set:\", nltk.classify.accuracy(classifier, dev_test_features))\n",
    "classifier.show_most_informative_features(10)\n",
    "\n"
   ]
  },
  {
   "cell_type": "markdown",
   "metadata": {},
   "source": [
    "Lets train and test"
   ]
  },
  {
   "cell_type": "code",
   "execution_count": 18,
   "metadata": {},
   "outputs": [
    {
     "name": "stdout",
     "output_type": "stream",
     "text": [
      "Accuracy on test set: 0.734\n"
     ]
    }
   ],
   "source": [
    "test_features = apply_features(gender_features, test_set)\n",
    "\n",
    "print(\"Accuracy on test set:\", nltk.classify.accuracy(classifier, test_features))"
   ]
  },
  {
   "cell_type": "markdown",
   "metadata": {},
   "source": [
    "Let's Score\n",
    "\n",
    "Let's redefine the model to just take the two most impactful features. We can name it gender_features_slim"
   ]
  },
  {
   "cell_type": "code",
   "execution_count": 27,
   "metadata": {},
   "outputs": [],
   "source": [
    "def gender_features_slim(name):\n",
    "    features = {}\n",
    "    features[\"last_two_letters\"] = name[-2:].lower() if len(name) > 1 else name[-1].lower()\n",
    "    features[\"last_letter\"] = name[-1].lower()\n",
    "    return features"
   ]
  },
  {
   "cell_type": "code",
   "execution_count": null,
   "metadata": {},
   "outputs": [],
   "source": [
    "Same Structure"
   ]
  },
  {
   "cell_type": "code",
   "execution_count": 30,
   "metadata": {},
   "outputs": [
    {
     "name": "stdout",
     "output_type": "stream",
     "text": [
      "Accuracy on dev-test set: 0.802\n",
      "Most Informative Features\n",
      "        last_two_letters = 'na'           female : male   =     90.5 : 1.0\n",
      "        last_two_letters = 'la'           female : male   =     71.3 : 1.0\n",
      "        last_two_letters = 'ia'           female : male   =     37.5 : 1.0\n",
      "             last_letter = 'a'            female : male   =     34.7 : 1.0\n",
      "        last_two_letters = 'us'             male : female =     33.5 : 1.0\n",
      "        last_two_letters = 'sa'           female : male   =     33.1 : 1.0\n",
      "        last_two_letters = 'ta'           female : male   =     31.6 : 1.0\n",
      "             last_letter = 'k'              male : female =     30.2 : 1.0\n",
      "             last_letter = 'f'              male : female =     27.6 : 1.0\n",
      "        last_two_letters = 'ra'           female : male   =     24.7 : 1.0\n"
     ]
    }
   ],
   "source": [
    "train_features = apply_features(gender_features_slim, train_set)\n",
    "dev_test_features = apply_features(gender_features_slim, dev_test_set)\n",
    "classifier = NaiveBayesClassifier.train(train_features)\n",
    "\n",
    "print(\"Accuracy on dev-test set:\", nltk.classify.accuracy(classifier, dev_test_features))\n",
    "classifier.show_most_informative_features(10)\n"
   ]
  },
  {
   "cell_type": "markdown",
   "metadata": {},
   "source": [
    "Train and Test"
   ]
  },
  {
   "cell_type": "code",
   "execution_count": 31,
   "metadata": {},
   "outputs": [
    {
     "name": "stdout",
     "output_type": "stream",
     "text": [
      "Accuracy on test set: 0.786\n"
     ]
    }
   ],
   "source": [
    "test_features = apply_features(gender_features, test_set)\n",
    "\n",
    "print(\"Accuracy on test set:\", nltk.classify.accuracy(classifier, test_features))"
   ]
  },
  {
   "cell_type": "markdown",
   "metadata": {},
   "source": [
    "Finally, lets score it."
   ]
  },
  {
   "cell_type": "markdown",
   "metadata": {},
   "source": [
    "Essentially, the longer feature set in gender_features includes various features like the first letter, name length, and counts of vowels and consonants, it doesn't necessarily lead to better performance. By focusing on the most informative features, gender_features_slim can achieve similar or better accuracy due to reduced noise and overfitting. The key here is that the most informative features often carry the bulk of the predictive power, and this is reinforced by show_most_informative_features where these two features have most of the prediction value. "
   ]
  }
 ],
 "metadata": {
  "kernelspec": {
   "display_name": "Python 3",
   "language": "python",
   "name": "python3"
  },
  "language_info": {
   "codemirror_mode": {
    "name": "ipython",
    "version": 3
   },
   "file_extension": ".py",
   "mimetype": "text/x-python",
   "name": "python",
   "nbconvert_exporter": "python",
   "pygments_lexer": "ipython3",
   "version": "3.8.3"
  }
 },
 "nbformat": 4,
 "nbformat_minor": 4
}
